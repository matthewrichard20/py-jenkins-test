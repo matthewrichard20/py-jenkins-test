{
 "cells": [
  {
   "cell_type": "code",
   "execution_count": 1,
   "id": "2d876b5e",
   "metadata": {},
   "outputs": [
    {
     "name": "stdout",
     "output_type": "stream",
     "text": [
      "test\n",
      "test\n"
     ]
    }
   ],
   "source": [
    "test = input()\n",
    "print(test)"
   ]
  },
  {
   "cell_type": "code",
   "execution_count": null,
   "id": "3bdd82c9",
   "metadata": {},
   "outputs": [],
   "source": [
    "def createSnap(dbName) :\n",
    "    datetoday = datetime.datetime.today()\n",
    "    dateStr = datetoday.strftime(\"%Y%m%d%H%M%S\")\n",
    "    snapIdentifier = dbName + '-' + dateStr\n",
    "    response1 = client_rds.create_db_snapshot(\n",
    "        DBSnapshotIdentifier=snapIdentifier,\n",
    "        DBInstanceIdentifier=dbName,\n",
    "        Tags= taglist\n",
    "    )\n",
    "    response2 = client_rds.start_export_task(\n",
    "        ExportTaskIdentifier=(dbName +'-s3-snapshot-' +dateStr),\n",
    "        SourceArn=response1[\"DBSnapshot\"][\"DBSnapshotArn\"],\n",
    "        S3BucketName='zx-backup-db',\n",
    "        IamRoleArn='arn:aws:iam::475194349913:role/s3-rds-export-snapshot-role',\n",
    "        KmsKeyId= 'arn:aws:kms:ap-southeast-1:475194349913:key/f6ff887a-facc-4d70-9770-5cd84a975ed9',\n",
    "        S3Prefix=dbName + '/' + dateStr[:8],\n",
    "    )\n",
    "    return (response1,response2)"
   ]
  }
 ],
 "metadata": {
  "kernelspec": {
   "display_name": "Python 3",
   "language": "python",
   "name": "python3"
  },
  "language_info": {
   "codemirror_mode": {
    "name": "ipython",
    "version": 3
   },
   "file_extension": ".py",
   "mimetype": "text/x-python",
   "name": "python",
   "nbconvert_exporter": "python",
   "pygments_lexer": "ipython3",
   "version": "3.9.1"
  }
 },
 "nbformat": 4,
 "nbformat_minor": 5
}
